{
 "cells": [
  {
   "cell_type": "code",
   "execution_count": null,
   "id": "initial_id",
   "metadata": {
    "collapsed": true
   },
   "outputs": [],
   "source": [
    "import cv2\n",
    "import matplotlib.pyplot as plt\n",
    "\n",
    "# Cargar las imágenes en color\n",
    "img1 = cv2.imread('lanus.png')\n",
    "img2 = cv2.imread('otra_imagen.png')  # Cambia 'otra_imagen.png' por la ruta de la imagen de comparación\n",
    "\n",
    "# Convertir las imágenes de BGR a RGB (ya que OpenCV carga en BGR)\n",
    "img1_rgb = cv2.cvtColor(img1, cv2.COLOR_BGR2RGB)\n",
    "img2_rgb = cv2.cvtColor(img2, cv2.COLOR_BGR2RGB)\n",
    "\n",
    "# Convertir las imágenes a escala de grises solo para la detección de puntos clave\n",
    "img1_gray = cv2.cvtColor(img1_rgb, cv2.COLOR_RGB2GRAY)\n",
    "img2_gray = cv2.cvtColor(img2_rgb, cv2.COLOR_RGB2GRAY)\n",
    "\n",
    "# Inicializar el detector SIFT\n",
    "sift = cv2.SIFT_create()\n",
    "\n",
    "# Detectar y calcular descriptores SIFT en ambas imágenes\n",
    "keypoints1, descriptors1 = sift.detectAndCompute(img1_gray, None)\n",
    "keypoints2, descriptors2 = sift.detectAndCompute(img2_gray, None)\n",
    "\n",
    "# Usar el matcher FLANN para encontrar coincidencias\n",
    "index_params = dict(algorithm=1, trees=5)\n",
    "search_params = dict(checks=50)\n",
    "flann = cv2.FlannBasedMatcher(index_params, search_params)\n",
    "matches = flann.knnMatch(descriptors1, descriptors2, k=2)\n",
    "\n",
    "# Aplicar ratio test para obtener las mejores coincidencias\n",
    "good_matches = []\n",
    "for m, n in matches:\n",
    "    if m.distance < 0.7 * n.distance:\n",
    "        good_matches.append(m)\n",
    "\n",
    "# Dibujar coincidencias\n",
    "img_matches = cv2.drawMatches(img1_rgb, keypoints1, img2_rgb, keypoints2, good_matches, None, flags=cv2.DrawMatchesFlags_NOT_DRAW_SINGLE_POINTS)\n",
    "\n",
    "# Mostrar la imagen de coincidencias con Matplotlib en RGB\n",
    "plt.figure(figsize=(12, 6))\n",
    "plt.imshow(img_matches)\n",
    "plt.title(f'Coincidencias encontradas: {len(good_matches)}')\n",
    "plt.axis('off')\n",
    "plt.show()\n"
   ]
  }
 ],
 "metadata": {
  "kernelspec": {
   "display_name": "Python 3",
   "language": "python",
   "name": "python3"
  },
  "language_info": {
   "codemirror_mode": {
    "name": "ipython",
    "version": 2
   },
   "file_extension": ".py",
   "mimetype": "text/x-python",
   "name": "python",
   "nbconvert_exporter": "python",
   "pygments_lexer": "ipython2",
   "version": "2.7.6"
  }
 },
 "nbformat": 4,
 "nbformat_minor": 5
}
